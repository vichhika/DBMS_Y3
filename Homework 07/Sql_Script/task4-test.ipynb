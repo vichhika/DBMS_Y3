{
    "metadata": {
        "kernelspec": {
            "name": "SQL",
            "display_name": "SQL",
            "language": "sql"
        },
        "language_info": {
            "name": "sql",
            "version": ""
        }
    },
    "nbformat_minor": 2,
    "nbformat": 4,
    "cells": [
        {
            "cell_type": "code",
            "source": [
                "SELECT * FROM [Like] WHERE UserID=1 AND LikeOrDislike = 'yes'"
            ],
            "metadata": {
                "azdata_cell_guid": "a0af2a05-bf69-4fe5-8e8b-657bbfad816e",
                "tags": []
            },
            "outputs": [
                {
                    "output_type": "display_data",
                    "data": {
                        "text/html": "(2 rows affected)"
                    },
                    "metadata": {}
                },
                {
                    "output_type": "display_data",
                    "data": {
                        "text/html": "Total execution time: 00:00:00.002"
                    },
                    "metadata": {}
                },
                {
                    "output_type": "execute_result",
                    "metadata": {},
                    "execution_count": 53,
                    "data": {
                        "application/vnd.dataresource+json": {
                            "schema": {
                                "fields": [
                                    {
                                        "name": "UserID"
                                    },
                                    {
                                        "name": "MovieID"
                                    },
                                    {
                                        "name": "LikeOrDislike"
                                    }
                                ]
                            },
                            "data": [
                                {
                                    "0": "1",
                                    "1": "1",
                                    "2": "yes"
                                },
                                {
                                    "0": "1",
                                    "1": "2",
                                    "2": "yes"
                                }
                            ]
                        },
                        "text/html": [
                            "<table>",
                            "<tr><th>UserID</th><th>MovieID</th><th>LikeOrDislike</th></tr>",
                            "<tr><td>1</td><td>1</td><td>yes</td></tr>",
                            "<tr><td>1</td><td>2</td><td>yes</td></tr>",
                            "</table>"
                        ]
                    }
                }
            ],
            "execution_count": 53
        },
        {
            "cell_type": "code",
            "source": [
                "SELECT * FROM [Like] WHERE UserID=1 AND LikeOrDislike = 'no'"
            ],
            "metadata": {
                "azdata_cell_guid": "d68ded73-4524-44d5-97ce-42e7944614ee",
                "tags": []
            },
            "outputs": [
                {
                    "output_type": "display_data",
                    "data": {
                        "text/html": "(1 row affected)"
                    },
                    "metadata": {}
                },
                {
                    "output_type": "display_data",
                    "data": {
                        "text/html": "Total execution time: 00:00:00.004"
                    },
                    "metadata": {}
                },
                {
                    "output_type": "execute_result",
                    "metadata": {},
                    "execution_count": 54,
                    "data": {
                        "application/vnd.dataresource+json": {
                            "schema": {
                                "fields": [
                                    {
                                        "name": "UserID"
                                    },
                                    {
                                        "name": "MovieID"
                                    },
                                    {
                                        "name": "LikeOrDislike"
                                    }
                                ]
                            },
                            "data": [
                                {
                                    "0": "1",
                                    "1": "5",
                                    "2": "no "
                                }
                            ]
                        },
                        "text/html": [
                            "<table>",
                            "<tr><th>UserID</th><th>MovieID</th><th>LikeOrDislike</th></tr>",
                            "<tr><td>1</td><td>5</td><td>no </td></tr>",
                            "</table>"
                        ]
                    }
                }
            ],
            "execution_count": 54
        },
        {
            "cell_type": "code",
            "source": [
                "SELECT TOP 3 UserID, COUNT(UserID) FROM [Like] WHERE MovieID in (SELECT MovieID FROM [Like] WHERE UserID=1 AND LikeOrDislike='yes') AND UserID !=1 GROUP BY UserID HAVING COUNT(UserID) = (SELECT COUNT(UserID) FROM [Like] WHERE UserID=1 AND LikeOrDislike = 'yes')"
            ],
            "metadata": {
                "azdata_cell_guid": "eeaef34f-40d3-4877-90ef-cdbf1a7c07a4",
                "tags": []
            },
            "outputs": [
                {
                    "output_type": "display_data",
                    "data": {
                        "text/html": "(1 row affected)"
                    },
                    "metadata": {}
                },
                {
                    "output_type": "display_data",
                    "data": {
                        "text/html": "Total execution time: 00:00:00.001"
                    },
                    "metadata": {}
                },
                {
                    "output_type": "execute_result",
                    "metadata": {},
                    "execution_count": 55,
                    "data": {
                        "application/vnd.dataresource+json": {
                            "schema": {
                                "fields": [
                                    {
                                        "name": "UserID"
                                    },
                                    {
                                        "name": "(No column name)"
                                    }
                                ]
                            },
                            "data": [
                                {
                                    "0": "3",
                                    "1": "2"
                                }
                            ]
                        },
                        "text/html": [
                            "<table>",
                            "<tr><th>UserID</th><th>(No column name)</th></tr>",
                            "<tr><td>3</td><td>2</td></tr>",
                            "</table>"
                        ]
                    }
                }
            ],
            "execution_count": 55
        },
        {
            "cell_type": "code",
            "source": [
                "SELECT TOP 3 UserID, COUNT(UserID) FROM [Like] WHERE MovieID in (SELECT MovieID FROM [Like] WHERE UserID=1 AND LikeOrDislike='no') AND UserID !=1 GROUP BY UserID HAVING COUNT(UserID) = (SELECT COUNT(UserID) FROM [Like] WHERE UserID=1 AND LikeOrDislike = 'no')"
            ],
            "metadata": {
                "azdata_cell_guid": "d7727fe4-fc38-414f-9251-cbe01ee8b448",
                "tags": []
            },
            "outputs": [
                {
                    "output_type": "display_data",
                    "data": {
                        "text/html": "(2 rows affected)"
                    },
                    "metadata": {}
                },
                {
                    "output_type": "display_data",
                    "data": {
                        "text/html": "Total execution time: 00:00:00.001"
                    },
                    "metadata": {}
                },
                {
                    "output_type": "execute_result",
                    "metadata": {},
                    "execution_count": 56,
                    "data": {
                        "application/vnd.dataresource+json": {
                            "schema": {
                                "fields": [
                                    {
                                        "name": "UserID"
                                    },
                                    {
                                        "name": "(No column name)"
                                    }
                                ]
                            },
                            "data": [
                                {
                                    "0": "3",
                                    "1": "1"
                                },
                                {
                                    "0": "5",
                                    "1": "1"
                                }
                            ]
                        },
                        "text/html": [
                            "<table>",
                            "<tr><th>UserID</th><th>(No column name)</th></tr>",
                            "<tr><td>3</td><td>1</td></tr>",
                            "<tr><td>5</td><td>1</td></tr>",
                            "</table>"
                        ]
                    }
                }
            ],
            "execution_count": 56
        },
        {
            "cell_type": "code",
            "source": [
                "SELECT Title FROM Movie INNER JOIN [Like] ON [Like].MovieID = Movie.MovieID WHERE UserID = (SELECT TOP 1 UserID FROM [Like] WHERE MovieID in (SELECT MovieID FROM [Like] WHERE UserID=1 AND LikeOrDislike='yes') AND UserID !=1 GROUP BY UserID HAVING COUNT(UserID) = (SELECT COUNT(UserID) FROM [Like] WHERE UserID=1 AND LikeOrDislike = 'yes')) AND UserID = (SELECT TOP 1 UserID FROM [Like] WHERE MovieID in (SELECT MovieID FROM [Like] WHERE UserID=1 AND LikeOrDislike='no') AND UserID !=1 GROUP BY UserID HAVING COUNT(UserID) = (SELECT COUNT(UserID) FROM [Like] WHERE UserID=1 AND LikeOrDislike = 'no')) AND [Like].MovieID NOT IN (SELECT MovieID FROM [Like] WHERE UserID=1)"
            ],
            "metadata": {
                "azdata_cell_guid": "1b5ca3da-20b9-4ddb-bf2f-57d58b7a6daf"
            },
            "outputs": [
                {
                    "output_type": "display_data",
                    "data": {
                        "text/html": "(3 rows affected)"
                    },
                    "metadata": {}
                },
                {
                    "output_type": "display_data",
                    "data": {
                        "text/html": "Total execution time: 00:00:00.019"
                    },
                    "metadata": {}
                },
                {
                    "output_type": "execute_result",
                    "metadata": {},
                    "execution_count": 60,
                    "data": {
                        "application/vnd.dataresource+json": {
                            "schema": {
                                "fields": [
                                    {
                                        "name": "Title"
                                    }
                                ]
                            },
                            "data": [
                                {
                                    "0": "American Dad!                                     "
                                },
                                {
                                    "0": "Tenet                                             "
                                },
                                {
                                    "0": "Memento                                           "
                                }
                            ]
                        },
                        "text/html": [
                            "<table>",
                            "<tr><th>Title</th></tr>",
                            "<tr><td>American Dad!                                     </td></tr>",
                            "<tr><td>Tenet                                             </td></tr>",
                            "<tr><td>Memento                                           </td></tr>",
                            "</table>"
                        ]
                    }
                }
            ],
            "execution_count": 60
        }
    ]
}