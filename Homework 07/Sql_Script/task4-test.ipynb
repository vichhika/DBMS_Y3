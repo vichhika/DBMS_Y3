{
    "metadata": {
        "kernelspec": {
            "name": "SQL",
            "display_name": "SQL",
            "language": "sql"
        },
        "language_info": {
            "name": "sql",
            "version": ""
        }
    },
    "nbformat_minor": 2,
    "nbformat": 4,
    "cells": [
        {
            "cell_type": "code",
            "source": [
                "SELECT * FROM [Like] WHERE UserID=1 AND LikeOrDislike = 'yes'"
            ],
            "metadata": {
                "azdata_cell_guid": "fac77580-b44b-4abb-8e51-e434224f6190"
            },
            "outputs": [
                {
                    "output_type": "display_data",
                    "data": {
                        "text/html": "(2 rows affected)"
                    },
                    "metadata": {}
                },
                {
                    "output_type": "display_data",
                    "data": {
                        "text/html": "Total execution time: 00:00:00.002"
                    },
                    "metadata": {}
                },
                {
                    "output_type": "execute_result",
                    "metadata": {},
                    "execution_count": 17,
                    "data": {
                        "application/vnd.dataresource+json": {
                            "schema": {
                                "fields": [
                                    {
                                        "name": "UserID"
                                    },
                                    {
                                        "name": "MovieID"
                                    },
                                    {
                                        "name": "LikeOrDislike"
                                    }
                                ]
                            },
                            "data": [
                                {
                                    "0": "1",
                                    "1": "1",
                                    "2": "yes"
                                },
                                {
                                    "0": "1",
                                    "1": "2",
                                    "2": "yes"
                                }
                            ]
                        },
                        "text/html": [
                            "<table>",
                            "<tr><th>UserID</th><th>MovieID</th><th>LikeOrDislike</th></tr>",
                            "<tr><td>1</td><td>1</td><td>yes</td></tr>",
                            "<tr><td>1</td><td>2</td><td>yes</td></tr>",
                            "</table>"
                        ]
                    }
                }
            ],
            "execution_count": 17
        },
        {
            "cell_type": "code",
            "source": [
                "SELECT UserID , MovieID FROM [Like] WHERE MovieID IN (SELECT MovieID FROM [Like] WHERE UserID=1 AND LikeOrDislike = 'yes') AND UserID != 1"
            ],
            "metadata": {
                "azdata_cell_guid": "b454162a-c8e2-44d9-a42d-327c2fc1630e"
            },
            "outputs": [
                {
                    "output_type": "display_data",
                    "data": {
                        "text/html": "(3 rows affected)"
                    },
                    "metadata": {}
                },
                {
                    "output_type": "display_data",
                    "data": {
                        "text/html": "Total execution time: 00:00:00.006"
                    },
                    "metadata": {}
                },
                {
                    "output_type": "execute_result",
                    "metadata": {},
                    "execution_count": 12,
                    "data": {
                        "application/vnd.dataresource+json": {
                            "schema": {
                                "fields": [
                                    {
                                        "name": "UserID"
                                    },
                                    {
                                        "name": "MovieID"
                                    }
                                ]
                            },
                            "data": [
                                {
                                    "0": "3",
                                    "1": "1"
                                },
                                {
                                    "0": "3",
                                    "1": "2"
                                },
                                {
                                    "0": "5",
                                    "1": "1"
                                }
                            ]
                        },
                        "text/html": [
                            "<table>",
                            "<tr><th>UserID</th><th>MovieID</th></tr>",
                            "<tr><td>3</td><td>1</td></tr>",
                            "<tr><td>3</td><td>2</td></tr>",
                            "<tr><td>5</td><td>1</td></tr>",
                            "</table>"
                        ]
                    }
                }
            ],
            "execution_count": 12
        },
        {
            "cell_type": "code",
            "source": [
                "SELECT TOP 1 UserID FROM [Like] WHERE MovieID IN (SELECT MovieID FROM [Like] WHERE UserID=1 AND LikeOrDislike = 'yes') AND UserID != 1 GROUP BY UserID HAVING COUNT(UserID) = (SELECT COUNT(*) FROM [Like] WHERE UserID=1 AND LikeOrDislike = 'yes')"
            ],
            "metadata": {
                "azdata_cell_guid": "4b6b22f2-8585-4aea-a89c-b23043ba0800"
            },
            "outputs": [
                {
                    "output_type": "display_data",
                    "data": {
                        "text/html": "(1 row affected)"
                    },
                    "metadata": {}
                },
                {
                    "output_type": "display_data",
                    "data": {
                        "text/html": "Total execution time: 00:00:00.012"
                    },
                    "metadata": {}
                },
                {
                    "output_type": "execute_result",
                    "metadata": {},
                    "execution_count": 28,
                    "data": {
                        "application/vnd.dataresource+json": {
                            "schema": {
                                "fields": [
                                    {
                                        "name": "UserID"
                                    }
                                ]
                            },
                            "data": [
                                {
                                    "0": "3"
                                }
                            ]
                        },
                        "text/html": [
                            "<table>",
                            "<tr><th>UserID</th></tr>",
                            "<tr><td>3</td></tr>",
                            "</table>"
                        ]
                    }
                }
            ],
            "execution_count": 28
        },
        {
            "cell_type": "code",
            "source": [
                "SELECT * FROM [Like] WHERE UserID=1 AND LikeOrDislike = 'no'"
            ],
            "metadata": {
                "azdata_cell_guid": "0ce8340f-3623-48b9-8233-3115f3979dba"
            },
            "outputs": [
                {
                    "output_type": "display_data",
                    "data": {
                        "text/html": "(2 rows affected)"
                    },
                    "metadata": {}
                },
                {
                    "output_type": "display_data",
                    "data": {
                        "text/html": "Total execution time: 00:00:00.002"
                    },
                    "metadata": {}
                },
                {
                    "output_type": "execute_result",
                    "metadata": {},
                    "execution_count": 19,
                    "data": {
                        "application/vnd.dataresource+json": {
                            "schema": {
                                "fields": [
                                    {
                                        "name": "UserID"
                                    },
                                    {
                                        "name": "MovieID"
                                    },
                                    {
                                        "name": "LikeOrDislike"
                                    }
                                ]
                            },
                            "data": [
                                {
                                    "0": "1",
                                    "1": "5",
                                    "2": "no "
                                },
                                {
                                    "0": "1",
                                    "1": "20",
                                    "2": "no "
                                }
                            ]
                        },
                        "text/html": [
                            "<table>",
                            "<tr><th>UserID</th><th>MovieID</th><th>LikeOrDislike</th></tr>",
                            "<tr><td>1</td><td>5</td><td>no </td></tr>",
                            "<tr><td>1</td><td>20</td><td>no </td></tr>",
                            "</table>"
                        ]
                    }
                }
            ],
            "execution_count": 19
        },
        {
            "cell_type": "code",
            "source": [
                "SELECT TOP 1 UserID FROM [Like] WHERE MovieID IN (SELECT MovieID FROM [Like] WHERE UserID=1 AND LikeOrDislike = 'no') AND UserID != 1 GROUP BY UserID HAVING COUNT(UserID) = (SELECT COUNT(*) FROM [Like] WHERE UserID=1 AND LikeOrDislike = 'no')"
            ],
            "metadata": {
                "azdata_cell_guid": "1062cd90-62b7-45de-a75a-e5fe2a66f45c"
            },
            "outputs": [
                {
                    "output_type": "display_data",
                    "data": {
                        "text/html": "(1 row affected)"
                    },
                    "metadata": {}
                },
                {
                    "output_type": "display_data",
                    "data": {
                        "text/html": "Total execution time: 00:00:00.013"
                    },
                    "metadata": {}
                },
                {
                    "output_type": "execute_result",
                    "metadata": {},
                    "execution_count": 33,
                    "data": {
                        "application/vnd.dataresource+json": {
                            "schema": {
                                "fields": [
                                    {
                                        "name": "UserID"
                                    }
                                ]
                            },
                            "data": [
                                {
                                    "0": "3"
                                }
                            ]
                        },
                        "text/html": [
                            "<table>",
                            "<tr><th>UserID</th></tr>",
                            "<tr><td>3</td></tr>",
                            "</table>"
                        ]
                    }
                }
            ],
            "execution_count": 33
        },
        {
            "cell_type": "code",
            "source": [
                "SELECT Title FROM Movie INNER JOIN [Like] ON [Like].MovieID = Movie.MovieID WHERE UserID = (SELECT TOP 1 UserID FROM [Like] WHERE MovieID IN (SELECT MovieID FROM [Like] WHERE UserID=1 AND LikeOrDislike = 'yes') AND UserID != 1 GROUP BY UserID HAVING COUNT(UserID) = (SELECT COUNT(*) FROM [Like] WHERE UserID=1 AND LikeOrDislike = 'yes')) AND UserID = (SELECT TOP 1 UserID FROM [Like] WHERE MovieID IN (SELECT MovieID FROM [Like] WHERE UserID=1 AND LikeOrDislike = 'no') AND UserID != 1 GROUP BY UserID HAVING COUNT(UserID) = (SELECT COUNT(*) FROM [Like] WHERE UserID=1 AND LikeOrDislike = 'no')) AND LikeOrDislike != 'no'"
            ],
            "metadata": {
                "azdata_cell_guid": "37a9419c-5c29-425e-814a-d1de5590e63b"
            },
            "outputs": [
                {
                    "output_type": "display_data",
                    "data": {
                        "text/html": "(4 rows affected)"
                    },
                    "metadata": {}
                },
                {
                    "output_type": "display_data",
                    "data": {
                        "text/html": "Total execution time: 00:00:00.021"
                    },
                    "metadata": {}
                },
                {
                    "output_type": "execute_result",
                    "metadata": {},
                    "execution_count": 32,
                    "data": {
                        "application/vnd.dataresource+json": {
                            "schema": {
                                "fields": [
                                    {
                                        "name": "Title"
                                    }
                                ]
                            },
                            "data": [
                                {
                                    "0": "Mortal Kombat Legends: Scorpion's Revenge         "
                                },
                                {
                                    "0": "Scooby-Doo: Return to Zombie Island               "
                                },
                                {
                                    "0": "Tenet                                             "
                                },
                                {
                                    "0": "Memento                                           "
                                }
                            ]
                        },
                        "text/html": [
                            "<table>",
                            "<tr><th>Title</th></tr>",
                            "<tr><td>Mortal Kombat Legends: Scorpion's Revenge         </td></tr>",
                            "<tr><td>Scooby-Doo: Return to Zombie Island               </td></tr>",
                            "<tr><td>Tenet                                             </td></tr>",
                            "<tr><td>Memento                                           </td></tr>",
                            "</table>"
                        ]
                    }
                }
            ],
            "execution_count": 32
        }
    ]
}