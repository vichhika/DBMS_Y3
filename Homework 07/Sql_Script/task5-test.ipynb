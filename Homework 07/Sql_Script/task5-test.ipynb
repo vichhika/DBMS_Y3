{
    "metadata": {
        "kernelspec": {
            "name": "SQL",
            "display_name": "SQL",
            "language": "sql"
        },
        "language_info": {
            "name": "sql",
            "version": ""
        }
    },
    "nbformat_minor": 2,
    "nbformat": 4,
    "cells": [
        {
            "cell_type": "code",
            "source": [
                "SELECT * FROM [Like] WHERE UserID=1 AND LikeOrDislike = 'yes'"
            ],
            "metadata": {
                "azdata_cell_guid": "07c5e5c1-326a-4dd8-a252-349c5caf0f53"
            },
            "outputs": [
                {
                    "output_type": "display_data",
                    "data": {
                        "text/html": "(2 rows affected)"
                    },
                    "metadata": {}
                },
                {
                    "output_type": "display_data",
                    "data": {
                        "text/html": "Total execution time: 00:00:00.001"
                    },
                    "metadata": {}
                },
                {
                    "output_type": "execute_result",
                    "metadata": {},
                    "execution_count": 1,
                    "data": {
                        "application/vnd.dataresource+json": {
                            "schema": {
                                "fields": [
                                    {
                                        "name": "UserID"
                                    },
                                    {
                                        "name": "MovieID"
                                    },
                                    {
                                        "name": "LikeOrDislike"
                                    }
                                ]
                            },
                            "data": [
                                {
                                    "0": "1",
                                    "1": "1",
                                    "2": "yes"
                                },
                                {
                                    "0": "1",
                                    "1": "2",
                                    "2": "yes"
                                }
                            ]
                        },
                        "text/html": [
                            "<table>",
                            "<tr><th>UserID</th><th>MovieID</th><th>LikeOrDislike</th></tr>",
                            "<tr><td>1</td><td>1</td><td>yes</td></tr>",
                            "<tr><td>1</td><td>2</td><td>yes</td></tr>",
                            "</table>"
                        ]
                    }
                }
            ],
            "execution_count": 1
        },
        {
            "cell_type": "code",
            "source": [
                "    SELECT TOP 1 MovieID , COUNT(MovieID) AS \"TOP HITS\" FROM [Like] WHERE MovieID IN (SELECT MovieID FROM [Like] WHERE UserID=1 AND LikeOrDislike = 'yes') AND LikeOrDislike = 'yes' GROUP BY MovieID"
            ],
            "metadata": {
                "azdata_cell_guid": "d69c87bf-129d-4bb0-acc2-42d455945add"
            },
            "outputs": [
                {
                    "output_type": "display_data",
                    "data": {
                        "text/html": "(1 row affected)"
                    },
                    "metadata": {}
                },
                {
                    "output_type": "display_data",
                    "data": {
                        "text/html": "Total execution time: 00:00:00.015"
                    },
                    "metadata": {}
                },
                {
                    "output_type": "execute_result",
                    "metadata": {},
                    "execution_count": 14,
                    "data": {
                        "application/vnd.dataresource+json": {
                            "schema": {
                                "fields": [
                                    {
                                        "name": "MovieID"
                                    },
                                    {
                                        "name": "TOP HITS"
                                    }
                                ]
                            },
                            "data": [
                                {
                                    "0": "1",
                                    "1": "3"
                                }
                            ]
                        },
                        "text/html": [
                            "<table>",
                            "<tr><th>MovieID</th><th>TOP HITS</th></tr>",
                            "<tr><td>1</td><td>3</td></tr>",
                            "</table>"
                        ]
                    }
                }
            ],
            "execution_count": 14
        },
        {
            "cell_type": "code",
            "source": [
                "SELECT UserID FROM [Like] WHERE MovieID IN (SELECT TOP 1 MovieID AS \"TOP HITS\" FROM [Like] WHERE MovieID IN (SELECT MovieID FROM [Like] WHERE UserID=1 AND LikeOrDislike = 'yes') AND LikeOrDislike = 'yes' GROUP BY MovieID)"
            ],
            "metadata": {
                "azdata_cell_guid": "7e05a9b5-aefb-4c43-834f-aed78d8c8f06"
            },
            "outputs": [
                {
                    "output_type": "display_data",
                    "data": {
                        "text/html": "(3 rows affected)"
                    },
                    "metadata": {}
                },
                {
                    "output_type": "display_data",
                    "data": {
                        "text/html": "Total execution time: 00:00:00.030"
                    },
                    "metadata": {}
                },
                {
                    "output_type": "execute_result",
                    "metadata": {},
                    "execution_count": 15,
                    "data": {
                        "application/vnd.dataresource+json": {
                            "schema": {
                                "fields": [
                                    {
                                        "name": "UserID"
                                    }
                                ]
                            },
                            "data": [
                                {
                                    "0": "1"
                                },
                                {
                                    "0": "3"
                                },
                                {
                                    "0": "5"
                                }
                            ]
                        },
                        "text/html": [
                            "<table>",
                            "<tr><th>UserID</th></tr>",
                            "<tr><td>1</td></tr>",
                            "<tr><td>3</td></tr>",
                            "<tr><td>5</td></tr>",
                            "</table>"
                        ]
                    }
                }
            ],
            "execution_count": 15
        },
        {
            "cell_type": "code",
            "source": [
                "SELECT Title FROM Movie INNER JOIN [Like] ON [Like].MovieID = Movie.MovieID WHERE UserID IN (SELECT UserID FROM [Like] WHERE MovieID IN (SELECT TOP 1 MovieID AS \"TOP HITS\" FROM [Like] WHERE MovieID IN (SELECT MovieID FROM [Like] WHERE UserID=1 AND LikeOrDislike = 'yes') AND LikeOrDislike = 'yes' GROUP BY MovieID)) AND LikeOrDislike = 'yes' AND Movie.MovieID NOT IN (SELECT MovieID FROM [Like] WHERE UserID=1 AND LikeOrDislike = 'yes') GROUP BY Title"
            ],
            "metadata": {
                "azdata_cell_guid": "e7be5238-9098-42c8-842d-8f8797213786"
            },
            "outputs": [
                {
                    "output_type": "display_data",
                    "data": {
                        "text/html": "(2 rows affected)"
                    },
                    "metadata": {}
                },
                {
                    "output_type": "display_data",
                    "data": {
                        "text/html": "Total execution time: 00:00:00.111"
                    },
                    "metadata": {}
                },
                {
                    "output_type": "execute_result",
                    "metadata": {},
                    "execution_count": 21,
                    "data": {
                        "application/vnd.dataresource+json": {
                            "schema": {
                                "fields": [
                                    {
                                        "name": "Title"
                                    }
                                ]
                            },
                            "data": [
                                {
                                    "0": "Memento                                           "
                                },
                                {
                                    "0": "Tenet                                             "
                                }
                            ]
                        },
                        "text/html": [
                            "<table>",
                            "<tr><th>Title</th></tr>",
                            "<tr><td>Memento                                           </td></tr>",
                            "<tr><td>Tenet                                             </td></tr>",
                            "</table>"
                        ]
                    }
                }
            ],
            "execution_count": 21
        }
    ]
}