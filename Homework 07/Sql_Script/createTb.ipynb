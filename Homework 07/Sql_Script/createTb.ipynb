{
    "metadata": {
        "kernelspec": {
            "name": "SQL",
            "display_name": "SQL",
            "language": "sql"
        },
        "language_info": {
            "name": "sql",
            "version": ""
        }
    },
    "nbformat_minor": 2,
    "nbformat": 4,
    "cells": [
        {
            "cell_type": "code",
            "source": [
                "CREATE TABLE Movie(\n",
                "    MovieID INT IDENTITY(1,1) PRIMARY KEY,\n",
                "    Title CHAR(50) NOT NULL\n",
                ")"
            ],
            "metadata": {
                "azdata_cell_guid": "9bc793c6-d8fd-454f-b540-ae4fb662ae88"
            },
            "outputs": [
                {
                    "output_type": "display_data",
                    "data": {
                        "text/html": "Commands completed successfully."
                    },
                    "metadata": {}
                },
                {
                    "output_type": "display_data",
                    "data": {
                        "text/html": "Total execution time: 00:00:00.018"
                    },
                    "metadata": {}
                }
            ],
            "execution_count": 1
        },
        {
            "cell_type": "code",
            "source": [
                "CREATE TABLE Author(\n",
                "    AuthorID INT IDENTITY(1,1) PRIMARY KEY,\n",
                "    AuthorName CHAR(50) NOT NULL\n",
                ")"
            ],
            "metadata": {
                "azdata_cell_guid": "5125b836-721f-4d4a-a5d3-8305d93810c3"
            },
            "outputs": [
                {
                    "output_type": "display_data",
                    "data": {
                        "text/html": "Commands completed successfully."
                    },
                    "metadata": {}
                },
                {
                    "output_type": "display_data",
                    "data": {
                        "text/html": "Total execution time: 00:00:00.003"
                    },
                    "metadata": {}
                }
            ],
            "execution_count": 2
        },
        {
            "cell_type": "code",
            "source": [
                "CREATE TABLE MovieDetail(\n",
                "     MovieID INT FOREIGN KEY REFERENCES Movie ON DELETE CASCADE,\n",
                "     AuthorID INT FOREIGN KEY REFERENCES Author ON DELETE CASCADE\n",
                ")"
            ],
            "metadata": {
                "azdata_cell_guid": "0c8f4887-e6bf-4972-a437-70571445a0ec"
            },
            "outputs": [
                {
                    "output_type": "display_data",
                    "data": {
                        "text/html": "Commands completed successfully."
                    },
                    "metadata": {}
                },
                {
                    "output_type": "display_data",
                    "data": {
                        "text/html": "Total execution time: 00:00:00.004"
                    },
                    "metadata": {}
                }
            ],
            "execution_count": 3
        },
        {
            "cell_type": "code",
            "source": [
                "CREATE UNIQUE INDEX MovieAuthorCK ON MovieDetail(MovieID,AuthorID)"
            ],
            "metadata": {
                "azdata_cell_guid": "1ab76fa7-d4cf-4c7a-83fe-fd644af5dafd"
            },
            "outputs": [
                {
                    "output_type": "display_data",
                    "data": {
                        "text/html": "Commands completed successfully."
                    },
                    "metadata": {}
                },
                {
                    "output_type": "display_data",
                    "data": {
                        "text/html": "Total execution time: 00:00:00.003"
                    },
                    "metadata": {}
                }
            ],
            "execution_count": 4
        },
        {
            "cell_type": "code",
            "source": [
                "CREATE TABLE \"User\"(\n",
                "    UserID INT IDENTITY(1,1) PRIMARY KEY,\n",
                "    Gender CHAR(6) NOT NULL,\n",
                "    Country CHAR(25) NOT NULL,\n",
                "    Username CHAR(64) NOT NULL UNIQUE,\n",
                "    \"Password\" CHAR(64) NOT NULL\n",
                ")"
            ],
            "metadata": {
                "azdata_cell_guid": "be96b5c0-5f62-44e1-9823-43910fdafdfd",
                "tags": []
            },
            "outputs": [
                {
                    "output_type": "display_data",
                    "data": {
                        "text/html": "Commands completed successfully."
                    },
                    "metadata": {}
                },
                {
                    "output_type": "display_data",
                    "data": {
                        "text/html": "Total execution time: 00:00:00.004"
                    },
                    "metadata": {}
                }
            ],
            "execution_count": 1
        },
        {
            "cell_type": "code",
            "source": [
                "CREATE TABLE \"Like\"(\n",
                "    UserID INT FOREIGN KEY REFERENCES \"User\" ON DELETE CASCADE,\n",
                "    MovieID INT FOREIGN KEY REFERENCES Movie ON DELETE CASCADE,\n",
                "    LikeOrDislike CHAR(3)\n",
                ")"
            ],
            "metadata": {
                "azdata_cell_guid": "ad702a0c-da71-4de7-bca0-17aef35e7bd5"
            },
            "outputs": [
                {
                    "output_type": "error",
                    "evalue": "Msg 1767, Level 16, State 0, Line 1\nForeign key 'FK__Like__MovieID__15702A09' references invalid table 'Movie'.",
                    "ename": "",
                    "traceback": []
                },
                {
                    "output_type": "error",
                    "evalue": "Msg 1750, Level 16, State 1, Line 1\nCould not create constraint or index. See previous errors.",
                    "ename": "",
                    "traceback": []
                },
                {
                    "output_type": "display_data",
                    "data": {
                        "text/html": "Total execution time: 00:00:00.005"
                    },
                    "metadata": {}
                }
            ],
            "execution_count": 2
        },
        {
            "cell_type": "code",
            "source": [
                "CREATE UNIQUE INDEX UserLikeCK ON \"Like\"(UserID,MovieID)"
            ],
            "metadata": {
                "azdata_cell_guid": "df1d5e17-f77c-4c15-88f8-8f2c5ef9690d"
            },
            "outputs": [],
            "execution_count": null
        }
    ]
}