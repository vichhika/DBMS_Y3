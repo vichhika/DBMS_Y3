{
    "metadata": {
        "kernelspec": {
            "name": "SQL",
            "display_name": "SQL",
            "language": "sql"
        },
        "language_info": {
            "name": "sql",
            "version": ""
        }
    },
    "nbformat_minor": 2,
    "nbformat": 4,
    "cells": [
        {
            "cell_type": "code",
            "source": [
                "SELECT * FROM [Like] WHERE UserID=1 AND LikeOrDislike='yes'"
            ],
            "metadata": {
                "azdata_cell_guid": "d3c7a17c-02fe-4f07-9725-3b24a0387b1c"
            },
            "outputs": [
                {
                    "output_type": "display_data",
                    "data": {
                        "text/html": "(2 rows affected)"
                    },
                    "metadata": {}
                },
                {
                    "output_type": "display_data",
                    "data": {
                        "text/html": "Total execution time: 00:00:00.004"
                    },
                    "metadata": {}
                },
                {
                    "output_type": "execute_result",
                    "metadata": {},
                    "execution_count": 2,
                    "data": {
                        "application/vnd.dataresource+json": {
                            "schema": {
                                "fields": [
                                    {
                                        "name": "UserID"
                                    },
                                    {
                                        "name": "MovieID"
                                    },
                                    {
                                        "name": "LikeOrDislike"
                                    }
                                ]
                            },
                            "data": [
                                {
                                    "0": "1",
                                    "1": "1",
                                    "2": "yes"
                                },
                                {
                                    "0": "1",
                                    "1": "2",
                                    "2": "yes"
                                }
                            ]
                        },
                        "text/html": [
                            "<table>",
                            "<tr><th>UserID</th><th>MovieID</th><th>LikeOrDislike</th></tr>",
                            "<tr><td>1</td><td>1</td><td>yes</td></tr>",
                            "<tr><td>1</td><td>2</td><td>yes</td></tr>",
                            "</table>"
                        ]
                    }
                }
            ],
            "execution_count": 2
        },
        {
            "cell_type": "code",
            "source": [
                "SELECT * FROM [Like] WHERE MovieID in (SELECT MovieID FROM [Like] WHERE UserID=1 AND LikeOrDislike='yes') AND UserID !=1"
            ],
            "metadata": {
                "azdata_cell_guid": "d442bde2-f812-4c3c-98ac-b2613f5dd7ad"
            },
            "outputs": [
                {
                    "output_type": "display_data",
                    "data": {
                        "text/html": "(2 rows affected)"
                    },
                    "metadata": {}
                },
                {
                    "output_type": "display_data",
                    "data": {
                        "text/html": "Total execution time: 00:00:00.006"
                    },
                    "metadata": {}
                },
                {
                    "output_type": "execute_result",
                    "metadata": {},
                    "execution_count": 7,
                    "data": {
                        "application/vnd.dataresource+json": {
                            "schema": {
                                "fields": [
                                    {
                                        "name": "UserID"
                                    },
                                    {
                                        "name": "MovieID"
                                    },
                                    {
                                        "name": "LikeOrDislike"
                                    }
                                ]
                            },
                            "data": [
                                {
                                    "0": "3",
                                    "1": "2",
                                    "2": "yes"
                                },
                                {
                                    "0": "5",
                                    "1": "1",
                                    "2": "yes"
                                }
                            ]
                        },
                        "text/html": [
                            "<table>",
                            "<tr><th>UserID</th><th>MovieID</th><th>LikeOrDislike</th></tr>",
                            "<tr><td>3</td><td>2</td><td>yes</td></tr>",
                            "<tr><td>5</td><td>1</td><td>yes</td></tr>",
                            "</table>"
                        ]
                    }
                }
            ],
            "execution_count": 7
        },
        {
            "cell_type": "code",
            "source": [
                "SELECT * FROM [Like] WHERE UserID in (SELECT UserID FROM [Like] WHERE MovieID in (SELECT MovieID FROM [Like] WHERE UserID=1 AND LikeOrDislike='yes') AND UserID !=1) AND LikeOrDislike='yes'"
            ],
            "metadata": {
                "azdata_cell_guid": "4ba3df1d-cfe9-49ab-b516-d12aa2320e0e"
            },
            "outputs": [
                {
                    "output_type": "display_data",
                    "data": {
                        "text/html": "(2 rows affected)"
                    },
                    "metadata": {}
                },
                {
                    "output_type": "display_data",
                    "data": {
                        "text/html": "Total execution time: 00:00:00.018"
                    },
                    "metadata": {}
                },
                {
                    "output_type": "execute_result",
                    "metadata": {},
                    "execution_count": 13,
                    "data": {
                        "application/vnd.dataresource+json": {
                            "schema": {
                                "fields": [
                                    {
                                        "name": "UserID"
                                    },
                                    {
                                        "name": "MovieID"
                                    },
                                    {
                                        "name": "LikeOrDislike"
                                    }
                                ]
                            },
                            "data": [
                                {
                                    "0": "3",
                                    "1": "2",
                                    "2": "yes"
                                },
                                {
                                    "0": "5",
                                    "1": "1",
                                    "2": "yes"
                                }
                            ]
                        },
                        "text/html": [
                            "<table>",
                            "<tr><th>UserID</th><th>MovieID</th><th>LikeOrDislike</th></tr>",
                            "<tr><td>3</td><td>2</td><td>yes</td></tr>",
                            "<tr><td>5</td><td>1</td><td>yes</td></tr>",
                            "</table>"
                        ]
                    }
                }
            ],
            "execution_count": 13
        },
        {
            "cell_type": "code",
            "source": [
                "SELECT Title FROM Movie WHERE MovieID in (SELECT MovieID FROM [Like] WHERE UserID in (SELECT UserID FROM [Like] WHERE MovieID in (SELECT MovieID FROM [Like] WHERE UserID=1 AND LikeOrDislike='yes') AND UserID !=1) AND LikeOrDislike='yes')"
            ],
            "metadata": {
                "azdata_cell_guid": "7ee0ecbb-1652-40ee-a3cc-5d27db4e8dc7"
            },
            "outputs": [
                {
                    "output_type": "display_data",
                    "data": {
                        "text/html": "(2 rows affected)"
                    },
                    "metadata": {}
                },
                {
                    "output_type": "display_data",
                    "data": {
                        "text/html": "Total execution time: 00:00:00.060"
                    },
                    "metadata": {}
                },
                {
                    "output_type": "execute_result",
                    "metadata": {},
                    "execution_count": 15,
                    "data": {
                        "application/vnd.dataresource+json": {
                            "schema": {
                                "fields": [
                                    {
                                        "name": "Title"
                                    }
                                ]
                            },
                            "data": [
                                {
                                    "0": "Mortal Kombat Legends: Scorpion's Revenge         "
                                },
                                {
                                    "0": "Scooby-Doo: Return to Zombie Island               "
                                }
                            ]
                        },
                        "text/html": [
                            "<table>",
                            "<tr><th>Title</th></tr>",
                            "<tr><td>Mortal Kombat Legends: Scorpion's Revenge         </td></tr>",
                            "<tr><td>Scooby-Doo: Return to Zombie Island               </td></tr>",
                            "</table>"
                        ]
                    }
                }
            ],
            "execution_count": 15
        }
    ]
}